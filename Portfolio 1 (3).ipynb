{
 "cells": [
  {
   "cell_type": "markdown",
   "metadata": {},
   "source": [
    "Name: Andrew England\n",
    "ID: 45656258"
   ]
  },
  {
   "cell_type": "code",
   "execution_count": 54,
   "metadata": {},
   "outputs": [],
   "source": [
    "import pandas as pd\n",
    "from matplotlib import pyplot as plt\n",
    "from datetime import timedelta\n",
    "plt.style.use('seaborn')\n",
    "%matplotlib inline"
   ]
  },
  {
   "cell_type": "markdown",
   "metadata": {},
   "source": [
    "# Analysis of Cycling Data\n",
    "\n",
    "## Loading Data\n",
    "\n",
    "The first dataset is an export of my ride data from [Strava](https://strava.com/), an online social \n",
    "network site for cycling and other sports.  This data is a log of every ride since the start of 2018\n",
    "and contains summary data like the distance and average speed.  It was exported using \n",
    "the script `stravaget.py` which uses the stravalib module to read data. Some details of\n",
    "the fields exported by that script can be seen in [the documentation for stravalib](https://pythonhosted.org/stravalib/api.html#stravalib.model.Activity). \n",
    "\n",
    "The exported data is a CSV file so that's easy to read, however the date information in the file is \n",
    "recorded in a different timezone (UTC) so we need to do a bit of conversion.  In reading the data I'm\n",
    "setting the index of the data frame to be the datetime of the ride. \n",
    "\n",
    "If the below cell gives error in `tz_localize`, use `tz_convert` as Pandas is time zone aware. "
   ]
  },
  {
   "cell_type": "code",
   "execution_count": 55,
   "metadata": {},
   "outputs": [
    {
     "data": {
      "text/html": [
       "<div>\n",
       "<style scoped>\n",
       "    .dataframe tbody tr th:only-of-type {\n",
       "        vertical-align: middle;\n",
       "    }\n",
       "\n",
       "    .dataframe tbody tr th {\n",
       "        vertical-align: top;\n",
       "    }\n",
       "\n",
       "    .dataframe thead th {\n",
       "        text-align: right;\n",
       "    }\n",
       "</style>\n",
       "<table border=\"1\" class=\"dataframe\">\n",
       "  <thead>\n",
       "    <tr style=\"text-align: right;\">\n",
       "      <th></th>\n",
       "      <th>average_heartrate</th>\n",
       "      <th>average_temp</th>\n",
       "      <th>average_watts</th>\n",
       "      <th>device_watts</th>\n",
       "      <th>distance</th>\n",
       "      <th>elapsed_time</th>\n",
       "      <th>elevation_gain</th>\n",
       "      <th>kudos</th>\n",
       "      <th>moving_time</th>\n",
       "      <th>workout_type</th>\n",
       "    </tr>\n",
       "    <tr>\n",
       "      <th>date</th>\n",
       "      <th></th>\n",
       "      <th></th>\n",
       "      <th></th>\n",
       "      <th></th>\n",
       "      <th></th>\n",
       "      <th></th>\n",
       "      <th></th>\n",
       "      <th></th>\n",
       "      <th></th>\n",
       "      <th></th>\n",
       "    </tr>\n",
       "  </thead>\n",
       "  <tbody>\n",
       "    <tr>\n",
       "      <th>2018-01-02 20:47:51+00:00</th>\n",
       "      <td>100.6</td>\n",
       "      <td>21.0</td>\n",
       "      <td>73.8</td>\n",
       "      <td>False</td>\n",
       "      <td>15.2</td>\n",
       "      <td>94</td>\n",
       "      <td>316.00 m</td>\n",
       "      <td>10</td>\n",
       "      <td>73</td>\n",
       "      <td>Ride</td>\n",
       "    </tr>\n",
       "    <tr>\n",
       "      <th>2018-01-04 01:36:53+00:00</th>\n",
       "      <td>NaN</td>\n",
       "      <td>24.0</td>\n",
       "      <td>131.7</td>\n",
       "      <td>False</td>\n",
       "      <td>18.0</td>\n",
       "      <td>52</td>\n",
       "      <td>236.00 m</td>\n",
       "      <td>5</td>\n",
       "      <td>46</td>\n",
       "      <td>Ride</td>\n",
       "    </tr>\n",
       "    <tr>\n",
       "      <th>2018-01-04 02:56:00+00:00</th>\n",
       "      <td>83.1</td>\n",
       "      <td>25.0</td>\n",
       "      <td>13.8</td>\n",
       "      <td>False</td>\n",
       "      <td>0.0</td>\n",
       "      <td>3</td>\n",
       "      <td>0.00 m</td>\n",
       "      <td>2</td>\n",
       "      <td>2</td>\n",
       "      <td>Ride</td>\n",
       "    </tr>\n",
       "    <tr>\n",
       "      <th>2018-01-04 05:37:04+00:00</th>\n",
       "      <td>110.1</td>\n",
       "      <td>24.0</td>\n",
       "      <td>113.6</td>\n",
       "      <td>False</td>\n",
       "      <td>22.9</td>\n",
       "      <td>77</td>\n",
       "      <td>246.00 m</td>\n",
       "      <td>8</td>\n",
       "      <td>64</td>\n",
       "      <td>Ride</td>\n",
       "    </tr>\n",
       "    <tr>\n",
       "      <th>2018-01-05 19:22:46+00:00</th>\n",
       "      <td>110.9</td>\n",
       "      <td>20.0</td>\n",
       "      <td>147.7</td>\n",
       "      <td>True</td>\n",
       "      <td>58.4</td>\n",
       "      <td>189</td>\n",
       "      <td>676.00 m</td>\n",
       "      <td>12</td>\n",
       "      <td>144</td>\n",
       "      <td>Ride</td>\n",
       "    </tr>\n",
       "  </tbody>\n",
       "</table>\n",
       "</div>"
      ],
      "text/plain": [
       "                           average_heartrate  average_temp  average_watts  \\\n",
       "date                                                                        \n",
       "2018-01-02 20:47:51+00:00              100.6          21.0           73.8   \n",
       "2018-01-04 01:36:53+00:00                NaN          24.0          131.7   \n",
       "2018-01-04 02:56:00+00:00               83.1          25.0           13.8   \n",
       "2018-01-04 05:37:04+00:00              110.1          24.0          113.6   \n",
       "2018-01-05 19:22:46+00:00              110.9          20.0          147.7   \n",
       "\n",
       "                          device_watts  distance  elapsed_time elevation_gain  \\\n",
       "date                                                                            \n",
       "2018-01-02 20:47:51+00:00        False      15.2            94       316.00 m   \n",
       "2018-01-04 01:36:53+00:00        False      18.0            52       236.00 m   \n",
       "2018-01-04 02:56:00+00:00        False       0.0             3         0.00 m   \n",
       "2018-01-04 05:37:04+00:00        False      22.9            77       246.00 m   \n",
       "2018-01-05 19:22:46+00:00         True      58.4           189       676.00 m   \n",
       "\n",
       "                           kudos  moving_time workout_type  \n",
       "date                                                        \n",
       "2018-01-02 20:47:51+00:00     10           73         Ride  \n",
       "2018-01-04 01:36:53+00:00      5           46         Ride  \n",
       "2018-01-04 02:56:00+00:00      2            2         Ride  \n",
       "2018-01-04 05:37:04+00:00      8           64         Ride  \n",
       "2018-01-05 19:22:46+00:00     12          144         Ride  "
      ]
     },
     "execution_count": 55,
     "metadata": {},
     "output_type": "execute_result"
    }
   ],
   "source": [
    "strava = pd.read_csv('data/strava_export.csv', index_col='date', parse_dates=True)\n",
    "strava.index = strava.index.tz_convert('UTC')\n",
    "strava.head()"
   ]
  },
  {
   "cell_type": "markdown",
   "metadata": {},
   "source": [
    "The second dataset comes from an application called [GoldenCheetah](https://www.goldencheetah.org/) which provides\n",
    "some analytics services over ride data.  This has some of the same fields but adds a lot of analysis of the \n",
    "power, speed and heart rate data in each ride.  This data overlaps with the Strava data but doesn't include all \n",
    "of the same rides. \n",
    "\n",
    "Again we create an index using the datetime for each ride, this time combining two columns in the data (date and time) \n",
    "and localising to Sydney so that the times match those for the Strava data. "
   ]
  },
  {
   "cell_type": "code",
   "execution_count": 56,
   "metadata": {
    "scrolled": true
   },
   "outputs": [
    {
     "data": {
      "text/html": [
       "<div>\n",
       "<style scoped>\n",
       "    .dataframe tbody tr th:only-of-type {\n",
       "        vertical-align: middle;\n",
       "    }\n",
       "\n",
       "    .dataframe tbody tr th {\n",
       "        vertical-align: top;\n",
       "    }\n",
       "\n",
       "    .dataframe thead th {\n",
       "        text-align: right;\n",
       "    }\n",
       "</style>\n",
       "<table border=\"1\" class=\"dataframe\">\n",
       "  <thead>\n",
       "    <tr style=\"text-align: right;\">\n",
       "      <th></th>\n",
       "      <th>date</th>\n",
       "      <th>time</th>\n",
       "      <th>filename</th>\n",
       "      <th>axPower</th>\n",
       "      <th>aPower Relative Intensity</th>\n",
       "      <th>aBikeScore</th>\n",
       "      <th>Skiba aVI</th>\n",
       "      <th>aPower Response Index</th>\n",
       "      <th>aIsoPower</th>\n",
       "      <th>aIF</th>\n",
       "      <th>...</th>\n",
       "      <th>Rest AVNN</th>\n",
       "      <th>Rest SDNN</th>\n",
       "      <th>Rest rMSSD</th>\n",
       "      <th>Rest PNN50</th>\n",
       "      <th>Rest LF</th>\n",
       "      <th>Rest HF</th>\n",
       "      <th>HRV Recovery Points</th>\n",
       "      <th>NP</th>\n",
       "      <th>IF</th>\n",
       "      <th>TSS</th>\n",
       "    </tr>\n",
       "  </thead>\n",
       "  <tbody>\n",
       "    <tr>\n",
       "      <th>2018-01-28 06:39:49+11:00</th>\n",
       "      <td>01/28/18</td>\n",
       "      <td>06:39:49</td>\n",
       "      <td>2018_01_28_06_39_49.json</td>\n",
       "      <td>202.211</td>\n",
       "      <td>0.75452</td>\n",
       "      <td>16.6520</td>\n",
       "      <td>1.31920</td>\n",
       "      <td>1.67755</td>\n",
       "      <td>223.621</td>\n",
       "      <td>0.83441</td>\n",
       "      <td>...</td>\n",
       "      <td>0</td>\n",
       "      <td>0</td>\n",
       "      <td>0</td>\n",
       "      <td>0</td>\n",
       "      <td>0</td>\n",
       "      <td>0</td>\n",
       "      <td>0</td>\n",
       "      <td>222.856</td>\n",
       "      <td>0.83155</td>\n",
       "      <td>20.2257</td>\n",
       "    </tr>\n",
       "    <tr>\n",
       "      <th>2018-01-28 07:01:32+11:00</th>\n",
       "      <td>01/28/18</td>\n",
       "      <td>07:01:32</td>\n",
       "      <td>2018_01_28_07_01_32.json</td>\n",
       "      <td>226.039</td>\n",
       "      <td>0.84343</td>\n",
       "      <td>80.2669</td>\n",
       "      <td>1.21137</td>\n",
       "      <td>1.54250</td>\n",
       "      <td>246.185</td>\n",
       "      <td>0.91860</td>\n",
       "      <td>...</td>\n",
       "      <td>0</td>\n",
       "      <td>0</td>\n",
       "      <td>0</td>\n",
       "      <td>0</td>\n",
       "      <td>0</td>\n",
       "      <td>0</td>\n",
       "      <td>0</td>\n",
       "      <td>245.365</td>\n",
       "      <td>0.91554</td>\n",
       "      <td>94.5787</td>\n",
       "    </tr>\n",
       "    <tr>\n",
       "      <th>2018-02-01 08:13:34+11:00</th>\n",
       "      <td>02/01/18</td>\n",
       "      <td>08:13:34</td>\n",
       "      <td>2018_02_01_08_13_34.json</td>\n",
       "      <td>0.000</td>\n",
       "      <td>0.00000</td>\n",
       "      <td>0.0000</td>\n",
       "      <td>0.00000</td>\n",
       "      <td>0.00000</td>\n",
       "      <td>0.000</td>\n",
       "      <td>0.00000</td>\n",
       "      <td>...</td>\n",
       "      <td>0</td>\n",
       "      <td>0</td>\n",
       "      <td>0</td>\n",
       "      <td>0</td>\n",
       "      <td>0</td>\n",
       "      <td>0</td>\n",
       "      <td>0</td>\n",
       "      <td>0.000</td>\n",
       "      <td>0.00000</td>\n",
       "      <td>0.0000</td>\n",
       "    </tr>\n",
       "    <tr>\n",
       "      <th>2018-02-06 08:06:42+11:00</th>\n",
       "      <td>02/06/18</td>\n",
       "      <td>08:06:42</td>\n",
       "      <td>2018_02_06_08_06_42.json</td>\n",
       "      <td>221.672</td>\n",
       "      <td>0.82714</td>\n",
       "      <td>78.8866</td>\n",
       "      <td>1.35775</td>\n",
       "      <td>1.86002</td>\n",
       "      <td>254.409</td>\n",
       "      <td>0.94929</td>\n",
       "      <td>...</td>\n",
       "      <td>0</td>\n",
       "      <td>0</td>\n",
       "      <td>0</td>\n",
       "      <td>0</td>\n",
       "      <td>0</td>\n",
       "      <td>0</td>\n",
       "      <td>0</td>\n",
       "      <td>253.702</td>\n",
       "      <td>0.94665</td>\n",
       "      <td>98.3269</td>\n",
       "    </tr>\n",
       "    <tr>\n",
       "      <th>2018-02-07 17:59:05+11:00</th>\n",
       "      <td>02/07/18</td>\n",
       "      <td>17:59:05</td>\n",
       "      <td>2018_02_07_17_59_05.json</td>\n",
       "      <td>218.211</td>\n",
       "      <td>0.81422</td>\n",
       "      <td>159.4590</td>\n",
       "      <td>1.47188</td>\n",
       "      <td>1.74658</td>\n",
       "      <td>233.780</td>\n",
       "      <td>0.87231</td>\n",
       "      <td>...</td>\n",
       "      <td>0</td>\n",
       "      <td>0</td>\n",
       "      <td>0</td>\n",
       "      <td>0</td>\n",
       "      <td>0</td>\n",
       "      <td>0</td>\n",
       "      <td>0</td>\n",
       "      <td>232.644</td>\n",
       "      <td>0.86808</td>\n",
       "      <td>171.0780</td>\n",
       "    </tr>\n",
       "  </tbody>\n",
       "</table>\n",
       "<p>5 rows × 362 columns</p>\n",
       "</div>"
      ],
      "text/plain": [
       "                               date      time                  filename  \\\n",
       "2018-01-28 06:39:49+11:00  01/28/18  06:39:49  2018_01_28_06_39_49.json   \n",
       "2018-01-28 07:01:32+11:00  01/28/18  07:01:32  2018_01_28_07_01_32.json   \n",
       "2018-02-01 08:13:34+11:00  02/01/18  08:13:34  2018_02_01_08_13_34.json   \n",
       "2018-02-06 08:06:42+11:00  02/06/18  08:06:42  2018_02_06_08_06_42.json   \n",
       "2018-02-07 17:59:05+11:00  02/07/18  17:59:05  2018_02_07_17_59_05.json   \n",
       "\n",
       "                           axPower  aPower Relative Intensity  aBikeScore  \\\n",
       "2018-01-28 06:39:49+11:00  202.211                    0.75452     16.6520   \n",
       "2018-01-28 07:01:32+11:00  226.039                    0.84343     80.2669   \n",
       "2018-02-01 08:13:34+11:00    0.000                    0.00000      0.0000   \n",
       "2018-02-06 08:06:42+11:00  221.672                    0.82714     78.8866   \n",
       "2018-02-07 17:59:05+11:00  218.211                    0.81422    159.4590   \n",
       "\n",
       "                           Skiba aVI  aPower Response Index  aIsoPower  \\\n",
       "2018-01-28 06:39:49+11:00    1.31920                1.67755    223.621   \n",
       "2018-01-28 07:01:32+11:00    1.21137                1.54250    246.185   \n",
       "2018-02-01 08:13:34+11:00    0.00000                0.00000      0.000   \n",
       "2018-02-06 08:06:42+11:00    1.35775                1.86002    254.409   \n",
       "2018-02-07 17:59:05+11:00    1.47188                1.74658    233.780   \n",
       "\n",
       "                               aIF  ...  Rest AVNN  Rest SDNN  Rest rMSSD  \\\n",
       "2018-01-28 06:39:49+11:00  0.83441  ...          0          0           0   \n",
       "2018-01-28 07:01:32+11:00  0.91860  ...          0          0           0   \n",
       "2018-02-01 08:13:34+11:00  0.00000  ...          0          0           0   \n",
       "2018-02-06 08:06:42+11:00  0.94929  ...          0          0           0   \n",
       "2018-02-07 17:59:05+11:00  0.87231  ...          0          0           0   \n",
       "\n",
       "                           Rest PNN50  Rest LF  Rest HF  HRV Recovery Points  \\\n",
       "2018-01-28 06:39:49+11:00           0        0        0                    0   \n",
       "2018-01-28 07:01:32+11:00           0        0        0                    0   \n",
       "2018-02-01 08:13:34+11:00           0        0        0                    0   \n",
       "2018-02-06 08:06:42+11:00           0        0        0                    0   \n",
       "2018-02-07 17:59:05+11:00           0        0        0                    0   \n",
       "\n",
       "                                NP       IF       TSS  \n",
       "2018-01-28 06:39:49+11:00  222.856  0.83155   20.2257  \n",
       "2018-01-28 07:01:32+11:00  245.365  0.91554   94.5787  \n",
       "2018-02-01 08:13:34+11:00    0.000  0.00000    0.0000  \n",
       "2018-02-06 08:06:42+11:00  253.702  0.94665   98.3269  \n",
       "2018-02-07 17:59:05+11:00  232.644  0.86808  171.0780  \n",
       "\n",
       "[5 rows x 362 columns]"
      ]
     },
     "execution_count": 56,
     "metadata": {},
     "output_type": "execute_result"
    }
   ],
   "source": [
    "cheetah = pd.read_csv('data/cheetah.csv', skipinitialspace=True)\n",
    "cheetah.index = pd.to_datetime(cheetah['date'] + ' ' + cheetah['time'])\n",
    "cheetah.index = cheetah.index.tz_localize('Australia/Sydney')\n",
    "cheetah.head()"
   ]
  },
  {
   "cell_type": "markdown",
   "metadata": {},
   "source": [
    "The GoldenCheetah data contains many many variables (columns) and we won't go into all of them here. Some\n",
    "that are of particular interest for the analysis below are:\n",
    "\n",
    "Here are definitions of some of the more important fields in the data. Capitalised fields come from the GoldenCheetah data\n",
    "while lowercase_fields come from Strava. There are many cases where fields are duplicated and in this case the values\n",
    "should be the same, although there is room for variation as the algorithm used to calculate them could be different\n",
    "in each case. \n",
    "\n",
    "  * Duration - overall duration of the ride, should be same as elapsed_time\n",
    "  * Time Moving - time spent moving (not resting or waiting at lights), should be the same as moving_time\n",
    "  * Elevation Gain - metres climbed over the ride\n",
    "  * Average Speed - over the ride\n",
    "  * Average Power - average power in watts as measured by a power meter, relates to how much effort is being put in to the ride, should be the same as  * average_watts' from Strava\n",
    "  * Nonzero Average Power - same as Average Power but excludes times when power is zero from the average\n",
    "  * Average Heart Rate - should be the same as average_heartrate\n",
    "  * Average Cadence - cadence is the rotations per minute of the pedals\n",
    "  * Average Temp - temperature in the environment as measured by the bike computer (should be same as average_temp)\n",
    "  * VAM - average ascent speed - speed up hills\n",
    "  * Calories (HR) - Calorie expendature as estimated from heart rate data\n",
    "  * 1 sec Peak Power - this and other  'Peak Power' measures give the maximum power output in the ride over this time period.  Will be higher for shorter periods. High values in short periods would come from a very 'punchy' ride with sprints for example.\n",
    "  * 1 min Peak Hr - a similar measure relating to Heart Rate\n",
    "  * NP - Normalised Power, a smoothed average power measurement, generally higher than Average Power \n",
    "  * TSS - Training Stress Score, a measure of how hard a ride this was\n",
    "  * device_watts - True if the power (watts) measures were from a power meter, False if they were estimated\n",
    "  * distance - distance travelled in Km\n",
    "  * kudos - likes from other Strava users (social network)\n",
    "  * workout_type - one of  'Race',  'Workout' or  'Ride'\n",
    "  \n",
    "  \n",
    "Some of the GoldenCheetah parameters are defined [in thier documentation](https://github.com/GoldenCheetah/GoldenCheetah/wiki/UG_Glossary).  "
   ]
  },
  {
   "cell_type": "markdown",
   "metadata": {},
   "source": [
    "## Your Tasks\n",
    "\n",
    "Your first task is to combine these two data frames using the [`join` method of Pandas](https://pandas.pydata.org/pandas-docs/stable/user_guide/merging.html#joining-on-index).   The goal is to keep only those rows of data \n",
    "that appear in __both__ data frames so that we have complete data for every row.  "
   ]
  },
  {
   "cell_type": "code",
   "execution_count": 57,
   "metadata": {},
   "outputs": [
    {
     "data": {
      "text/html": [
       "<div>\n",
       "<style scoped>\n",
       "    .dataframe tbody tr th:only-of-type {\n",
       "        vertical-align: middle;\n",
       "    }\n",
       "\n",
       "    .dataframe tbody tr th {\n",
       "        vertical-align: top;\n",
       "    }\n",
       "\n",
       "    .dataframe thead th {\n",
       "        text-align: right;\n",
       "    }\n",
       "</style>\n",
       "<table border=\"1\" class=\"dataframe\">\n",
       "  <thead>\n",
       "    <tr style=\"text-align: right;\">\n",
       "      <th></th>\n",
       "      <th>average_heartrate</th>\n",
       "      <th>average_temp</th>\n",
       "      <th>average_watts</th>\n",
       "      <th>device_watts</th>\n",
       "      <th>distance</th>\n",
       "      <th>elapsed_time</th>\n",
       "      <th>elevation_gain</th>\n",
       "      <th>kudos</th>\n",
       "      <th>moving_time</th>\n",
       "      <th>workout_type</th>\n",
       "      <th>...</th>\n",
       "      <th>Rest AVNN</th>\n",
       "      <th>Rest SDNN</th>\n",
       "      <th>Rest rMSSD</th>\n",
       "      <th>Rest PNN50</th>\n",
       "      <th>Rest LF</th>\n",
       "      <th>Rest HF</th>\n",
       "      <th>HRV Recovery Points</th>\n",
       "      <th>NP</th>\n",
       "      <th>IF</th>\n",
       "      <th>TSS</th>\n",
       "    </tr>\n",
       "  </thead>\n",
       "  <tbody>\n",
       "    <tr>\n",
       "      <th>2018-01-27 19:39:49+00:00</th>\n",
       "      <td>120.6</td>\n",
       "      <td>21.0</td>\n",
       "      <td>153.4</td>\n",
       "      <td>True</td>\n",
       "      <td>7.6</td>\n",
       "      <td>17</td>\n",
       "      <td>95.00 m</td>\n",
       "      <td>4</td>\n",
       "      <td>17</td>\n",
       "      <td>Ride</td>\n",
       "      <td>...</td>\n",
       "      <td>0</td>\n",
       "      <td>0</td>\n",
       "      <td>0</td>\n",
       "      <td>0</td>\n",
       "      <td>0</td>\n",
       "      <td>0</td>\n",
       "      <td>0</td>\n",
       "      <td>222.856</td>\n",
       "      <td>0.83155</td>\n",
       "      <td>20.2257</td>\n",
       "    </tr>\n",
       "    <tr>\n",
       "      <th>2018-01-27 20:01:32+00:00</th>\n",
       "      <td>146.9</td>\n",
       "      <td>22.0</td>\n",
       "      <td>187.7</td>\n",
       "      <td>True</td>\n",
       "      <td>38.6</td>\n",
       "      <td>67</td>\n",
       "      <td>449.00 m</td>\n",
       "      <td>19</td>\n",
       "      <td>67</td>\n",
       "      <td>Race</td>\n",
       "      <td>...</td>\n",
       "      <td>0</td>\n",
       "      <td>0</td>\n",
       "      <td>0</td>\n",
       "      <td>0</td>\n",
       "      <td>0</td>\n",
       "      <td>0</td>\n",
       "      <td>0</td>\n",
       "      <td>245.365</td>\n",
       "      <td>0.91554</td>\n",
       "      <td>94.5787</td>\n",
       "    </tr>\n",
       "    <tr>\n",
       "      <th>2018-01-31 21:13:34+00:00</th>\n",
       "      <td>109.8</td>\n",
       "      <td>19.0</td>\n",
       "      <td>143.0</td>\n",
       "      <td>False</td>\n",
       "      <td>26.3</td>\n",
       "      <td>649</td>\n",
       "      <td>612.00 m</td>\n",
       "      <td>6</td>\n",
       "      <td>113</td>\n",
       "      <td>Ride</td>\n",
       "      <td>...</td>\n",
       "      <td>0</td>\n",
       "      <td>0</td>\n",
       "      <td>0</td>\n",
       "      <td>0</td>\n",
       "      <td>0</td>\n",
       "      <td>0</td>\n",
       "      <td>0</td>\n",
       "      <td>0.000</td>\n",
       "      <td>0.00000</td>\n",
       "      <td>0.0000</td>\n",
       "    </tr>\n",
       "    <tr>\n",
       "      <th>2018-02-05 21:06:42+00:00</th>\n",
       "      <td>119.3</td>\n",
       "      <td>19.0</td>\n",
       "      <td>165.9</td>\n",
       "      <td>True</td>\n",
       "      <td>24.3</td>\n",
       "      <td>69</td>\n",
       "      <td>439.00 m</td>\n",
       "      <td>6</td>\n",
       "      <td>65</td>\n",
       "      <td>Ride</td>\n",
       "      <td>...</td>\n",
       "      <td>0</td>\n",
       "      <td>0</td>\n",
       "      <td>0</td>\n",
       "      <td>0</td>\n",
       "      <td>0</td>\n",
       "      <td>0</td>\n",
       "      <td>0</td>\n",
       "      <td>253.702</td>\n",
       "      <td>0.94665</td>\n",
       "      <td>98.3269</td>\n",
       "    </tr>\n",
       "    <tr>\n",
       "      <th>2018-02-07 06:59:05+00:00</th>\n",
       "      <td>124.8</td>\n",
       "      <td>20.0</td>\n",
       "      <td>151.0</td>\n",
       "      <td>True</td>\n",
       "      <td>47.1</td>\n",
       "      <td>144</td>\n",
       "      <td>890.00 m</td>\n",
       "      <td>10</td>\n",
       "      <td>134</td>\n",
       "      <td>Ride</td>\n",
       "      <td>...</td>\n",
       "      <td>0</td>\n",
       "      <td>0</td>\n",
       "      <td>0</td>\n",
       "      <td>0</td>\n",
       "      <td>0</td>\n",
       "      <td>0</td>\n",
       "      <td>0</td>\n",
       "      <td>232.644</td>\n",
       "      <td>0.86808</td>\n",
       "      <td>171.0780</td>\n",
       "    </tr>\n",
       "  </tbody>\n",
       "</table>\n",
       "<p>5 rows × 372 columns</p>\n",
       "</div>"
      ],
      "text/plain": [
       "                           average_heartrate  average_temp  average_watts  \\\n",
       "2018-01-27 19:39:49+00:00              120.6          21.0          153.4   \n",
       "2018-01-27 20:01:32+00:00              146.9          22.0          187.7   \n",
       "2018-01-31 21:13:34+00:00              109.8          19.0          143.0   \n",
       "2018-02-05 21:06:42+00:00              119.3          19.0          165.9   \n",
       "2018-02-07 06:59:05+00:00              124.8          20.0          151.0   \n",
       "\n",
       "                          device_watts  distance  elapsed_time elevation_gain  \\\n",
       "2018-01-27 19:39:49+00:00         True       7.6            17        95.00 m   \n",
       "2018-01-27 20:01:32+00:00         True      38.6            67       449.00 m   \n",
       "2018-01-31 21:13:34+00:00        False      26.3           649       612.00 m   \n",
       "2018-02-05 21:06:42+00:00         True      24.3            69       439.00 m   \n",
       "2018-02-07 06:59:05+00:00         True      47.1           144       890.00 m   \n",
       "\n",
       "                           kudos  moving_time workout_type  ... Rest AVNN  \\\n",
       "2018-01-27 19:39:49+00:00      4           17         Ride  ...         0   \n",
       "2018-01-27 20:01:32+00:00     19           67         Race  ...         0   \n",
       "2018-01-31 21:13:34+00:00      6          113         Ride  ...         0   \n",
       "2018-02-05 21:06:42+00:00      6           65         Ride  ...         0   \n",
       "2018-02-07 06:59:05+00:00     10          134         Ride  ...         0   \n",
       "\n",
       "                          Rest SDNN Rest rMSSD  Rest PNN50  Rest LF  Rest HF  \\\n",
       "2018-01-27 19:39:49+00:00         0          0           0        0        0   \n",
       "2018-01-27 20:01:32+00:00         0          0           0        0        0   \n",
       "2018-01-31 21:13:34+00:00         0          0           0        0        0   \n",
       "2018-02-05 21:06:42+00:00         0          0           0        0        0   \n",
       "2018-02-07 06:59:05+00:00         0          0           0        0        0   \n",
       "\n",
       "                           HRV Recovery Points       NP       IF       TSS  \n",
       "2018-01-27 19:39:49+00:00                    0  222.856  0.83155   20.2257  \n",
       "2018-01-27 20:01:32+00:00                    0  245.365  0.91554   94.5787  \n",
       "2018-01-31 21:13:34+00:00                    0    0.000  0.00000    0.0000  \n",
       "2018-02-05 21:06:42+00:00                    0  253.702  0.94665   98.3269  \n",
       "2018-02-07 06:59:05+00:00                    0  232.644  0.86808  171.0780  \n",
       "\n",
       "[5 rows x 372 columns]"
      ]
     },
     "execution_count": 57,
     "metadata": {},
     "output_type": "execute_result"
    }
   ],
   "source": [
    "#join the two data frames\n",
    "data = strava.join(cheetah, how=\"inner\")\n",
    "data.head()\n"
   ]
  },
  {
   "cell_type": "markdown",
   "metadata": {},
   "source": [
    "## Required Analysis\n",
    "\n",
    "1. Remove rides with no measured power (where device_watts is False) - these are commutes or MTB rides\n",
    "* Look at the distributions of some key variables: time, distance, average speed, average power, TSS. Are they normally distributed? Skewed? \n",
    "* Explore the relationships between the following variables. Are any of them corrolated with each other (do they vary together in a predictable way)? Can you explain any relationships you observe?  \n",
    "    * Distance\n",
    "    * Moving Time\n",
    "    * Average Speed\n",
    "    * Heart Rate\n",
    "    * Power (watts)\n",
    "    * Normalised power (NP)\n",
    "    * Training Stress Score\n",
    "    * Elevation Gain\n",
    "* We want to explore the differences between the three categories: `Race`, `Workout` and `Ride`.\n",
    "    * Use scatter plots with different colours for each category to explore how these categories differ.  \n",
    "    * Use histograms or box plots to visualise the different distributions of a variable for the three categories.\n",
    "    * In both cases, experiment with different variables but only include those that are interesting in your final notebook (if none are interesting, show us a representative example).\n",
    "* We want to explore relationship between `rides` and `weather`. In order to carry out this analysis, you need `weather` data from relevant source. For your convenience, we have downloaded temperature data from [Bureau of Meterology](http://www.bom.gov.au/). You can find temperature under `Maximum temperature (Degree C)` column which represents maximum temperature for the day. Under the `data` directory, you get `weather_data_2018.csv` and `weather_data_2019.csv` files from where you can read daily temperatures. In order to get temperature for a day so that you can use in your combined dataframe (joining Strava and Cheetah datasets), you need to make `date` column consistent in both dataframes. \n",
    "    * Make `date` column consistent across both `weather` and `rides` datasets so that you can get `Maximum temperature` for the day of the ride. \n",
    "    * Can you find any relationship between distance travelled per ride and the temperature?\n",
    "    * Can you find any relatioship between Average speed of ride and the temperature?\n",
    "\n",
    "\n",
    "## Challenge\n",
    "\n",
    "* What leads to more `kudos`? Is there anything to indicate which rides are more popular? Explore the relationship between the main variables and kudos. Show a plot and comment on any relationship you observe. \n",
    "\n",
    "* Generate a plot that summarises the number of km ridden each month over the period of the data. Overlay this with the _sum_ of the Training Stress Score and the _average_ of the Average Speed to generate an overall summary of activity.\n",
    "\n",
    "* Generate a similar graph but one that shows the activity over a given month, with the sum of the values for each day of the month shown.  So, if there are two rides on a given day, the graph should show the sum of the distances etc for these rides.\n",
    "\n",
    "Hint: to generate these summary plots you need to use the [timeseries/date functionality](https://pandas.pydata.org/pandas-docs/stable/user_guide/timeseries.html) in Pandas to generate a new data frame containing the required data.  \n",
    "\n",
    "__Note:__ once you have completed these steps you can remove this cell.  Use the text as a starting point for the documentation of your workflow and discussion of results.\n"
   ]
  },
  {
   "cell_type": "code",
   "execution_count": 58,
   "metadata": {},
   "outputs": [
    {
     "data": {
      "text/html": [
       "<div>\n",
       "<style scoped>\n",
       "    .dataframe tbody tr th:only-of-type {\n",
       "        vertical-align: middle;\n",
       "    }\n",
       "\n",
       "    .dataframe tbody tr th {\n",
       "        vertical-align: top;\n",
       "    }\n",
       "\n",
       "    .dataframe thead th {\n",
       "        text-align: right;\n",
       "    }\n",
       "</style>\n",
       "<table border=\"1\" class=\"dataframe\">\n",
       "  <thead>\n",
       "    <tr style=\"text-align: right;\">\n",
       "      <th></th>\n",
       "      <th>average_heartrate</th>\n",
       "      <th>average_temp</th>\n",
       "      <th>average_watts</th>\n",
       "      <th>device_watts</th>\n",
       "      <th>distance</th>\n",
       "      <th>elapsed_time</th>\n",
       "      <th>elevation_gain</th>\n",
       "      <th>kudos</th>\n",
       "      <th>moving_time</th>\n",
       "      <th>workout_type</th>\n",
       "      <th>...</th>\n",
       "      <th>Rest AVNN</th>\n",
       "      <th>Rest SDNN</th>\n",
       "      <th>Rest rMSSD</th>\n",
       "      <th>Rest PNN50</th>\n",
       "      <th>Rest LF</th>\n",
       "      <th>Rest HF</th>\n",
       "      <th>HRV Recovery Points</th>\n",
       "      <th>NP</th>\n",
       "      <th>IF</th>\n",
       "      <th>TSS</th>\n",
       "    </tr>\n",
       "  </thead>\n",
       "  <tbody>\n",
       "    <tr>\n",
       "      <th>2018-01-27 19:39:49+00:00</th>\n",
       "      <td>120.6</td>\n",
       "      <td>21.0</td>\n",
       "      <td>153.4</td>\n",
       "      <td>True</td>\n",
       "      <td>7.6</td>\n",
       "      <td>17</td>\n",
       "      <td>95.00 m</td>\n",
       "      <td>4</td>\n",
       "      <td>17</td>\n",
       "      <td>Ride</td>\n",
       "      <td>...</td>\n",
       "      <td>0</td>\n",
       "      <td>0</td>\n",
       "      <td>0</td>\n",
       "      <td>0</td>\n",
       "      <td>0</td>\n",
       "      <td>0</td>\n",
       "      <td>0</td>\n",
       "      <td>222.856</td>\n",
       "      <td>0.83155</td>\n",
       "      <td>20.2257</td>\n",
       "    </tr>\n",
       "    <tr>\n",
       "      <th>2018-01-27 20:01:32+00:00</th>\n",
       "      <td>146.9</td>\n",
       "      <td>22.0</td>\n",
       "      <td>187.7</td>\n",
       "      <td>True</td>\n",
       "      <td>38.6</td>\n",
       "      <td>67</td>\n",
       "      <td>449.00 m</td>\n",
       "      <td>19</td>\n",
       "      <td>67</td>\n",
       "      <td>Race</td>\n",
       "      <td>...</td>\n",
       "      <td>0</td>\n",
       "      <td>0</td>\n",
       "      <td>0</td>\n",
       "      <td>0</td>\n",
       "      <td>0</td>\n",
       "      <td>0</td>\n",
       "      <td>0</td>\n",
       "      <td>245.365</td>\n",
       "      <td>0.91554</td>\n",
       "      <td>94.5787</td>\n",
       "    </tr>\n",
       "    <tr>\n",
       "      <th>2018-02-05 21:06:42+00:00</th>\n",
       "      <td>119.3</td>\n",
       "      <td>19.0</td>\n",
       "      <td>165.9</td>\n",
       "      <td>True</td>\n",
       "      <td>24.3</td>\n",
       "      <td>69</td>\n",
       "      <td>439.00 m</td>\n",
       "      <td>6</td>\n",
       "      <td>65</td>\n",
       "      <td>Ride</td>\n",
       "      <td>...</td>\n",
       "      <td>0</td>\n",
       "      <td>0</td>\n",
       "      <td>0</td>\n",
       "      <td>0</td>\n",
       "      <td>0</td>\n",
       "      <td>0</td>\n",
       "      <td>0</td>\n",
       "      <td>253.702</td>\n",
       "      <td>0.94665</td>\n",
       "      <td>98.3269</td>\n",
       "    </tr>\n",
       "    <tr>\n",
       "      <th>2018-02-07 06:59:05+00:00</th>\n",
       "      <td>124.8</td>\n",
       "      <td>20.0</td>\n",
       "      <td>151.0</td>\n",
       "      <td>True</td>\n",
       "      <td>47.1</td>\n",
       "      <td>144</td>\n",
       "      <td>890.00 m</td>\n",
       "      <td>10</td>\n",
       "      <td>134</td>\n",
       "      <td>Ride</td>\n",
       "      <td>...</td>\n",
       "      <td>0</td>\n",
       "      <td>0</td>\n",
       "      <td>0</td>\n",
       "      <td>0</td>\n",
       "      <td>0</td>\n",
       "      <td>0</td>\n",
       "      <td>0</td>\n",
       "      <td>232.644</td>\n",
       "      <td>0.86808</td>\n",
       "      <td>171.0780</td>\n",
       "    </tr>\n",
       "    <tr>\n",
       "      <th>2018-02-09 19:18:03+00:00</th>\n",
       "      <td>123.0</td>\n",
       "      <td>20.0</td>\n",
       "      <td>145.9</td>\n",
       "      <td>True</td>\n",
       "      <td>59.8</td>\n",
       "      <td>193</td>\n",
       "      <td>656.00 m</td>\n",
       "      <td>22</td>\n",
       "      <td>139</td>\n",
       "      <td>Ride</td>\n",
       "      <td>...</td>\n",
       "      <td>0</td>\n",
       "      <td>0</td>\n",
       "      <td>0</td>\n",
       "      <td>0</td>\n",
       "      <td>0</td>\n",
       "      <td>0</td>\n",
       "      <td>0</td>\n",
       "      <td>212.726</td>\n",
       "      <td>0.79375</td>\n",
       "      <td>147.7970</td>\n",
       "    </tr>\n",
       "  </tbody>\n",
       "</table>\n",
       "<p>5 rows × 372 columns</p>\n",
       "</div>"
      ],
      "text/plain": [
       "                           average_heartrate  average_temp  average_watts  \\\n",
       "2018-01-27 19:39:49+00:00              120.6          21.0          153.4   \n",
       "2018-01-27 20:01:32+00:00              146.9          22.0          187.7   \n",
       "2018-02-05 21:06:42+00:00              119.3          19.0          165.9   \n",
       "2018-02-07 06:59:05+00:00              124.8          20.0          151.0   \n",
       "2018-02-09 19:18:03+00:00              123.0          20.0          145.9   \n",
       "\n",
       "                          device_watts  distance  elapsed_time elevation_gain  \\\n",
       "2018-01-27 19:39:49+00:00         True       7.6            17        95.00 m   \n",
       "2018-01-27 20:01:32+00:00         True      38.6            67       449.00 m   \n",
       "2018-02-05 21:06:42+00:00         True      24.3            69       439.00 m   \n",
       "2018-02-07 06:59:05+00:00         True      47.1           144       890.00 m   \n",
       "2018-02-09 19:18:03+00:00         True      59.8           193       656.00 m   \n",
       "\n",
       "                           kudos  moving_time workout_type  ... Rest AVNN  \\\n",
       "2018-01-27 19:39:49+00:00      4           17         Ride  ...         0   \n",
       "2018-01-27 20:01:32+00:00     19           67         Race  ...         0   \n",
       "2018-02-05 21:06:42+00:00      6           65         Ride  ...         0   \n",
       "2018-02-07 06:59:05+00:00     10          134         Ride  ...         0   \n",
       "2018-02-09 19:18:03+00:00     22          139         Ride  ...         0   \n",
       "\n",
       "                          Rest SDNN Rest rMSSD  Rest PNN50  Rest LF  Rest HF  \\\n",
       "2018-01-27 19:39:49+00:00         0          0           0        0        0   \n",
       "2018-01-27 20:01:32+00:00         0          0           0        0        0   \n",
       "2018-02-05 21:06:42+00:00         0          0           0        0        0   \n",
       "2018-02-07 06:59:05+00:00         0          0           0        0        0   \n",
       "2018-02-09 19:18:03+00:00         0          0           0        0        0   \n",
       "\n",
       "                           HRV Recovery Points       NP       IF       TSS  \n",
       "2018-01-27 19:39:49+00:00                    0  222.856  0.83155   20.2257  \n",
       "2018-01-27 20:01:32+00:00                    0  245.365  0.91554   94.5787  \n",
       "2018-02-05 21:06:42+00:00                    0  253.702  0.94665   98.3269  \n",
       "2018-02-07 06:59:05+00:00                    0  232.644  0.86808  171.0780  \n",
       "2018-02-09 19:18:03+00:00                    0  212.726  0.79375  147.7970  \n",
       "\n",
       "[5 rows x 372 columns]"
      ]
     },
     "execution_count": 58,
     "metadata": {},
     "output_type": "execute_result"
    }
   ],
   "source": [
    "#Remove rides with no measured power (where device_watts is False) - these are commutes or MTB rides\n",
    "\n",
    "no_power = data[data['device_watts']== True]\n",
    "\n",
    "no_power.head()\n",
    "\n"
   ]
  },
  {
   "cell_type": "markdown",
   "metadata": {},
   "source": [
    "# Look at the distributions of some key variables: time, distance, average speed, average power, TSS. Are they normally distributed? Skewed?\n",
    "\n",
    "\n"
   ]
  },
  {
   "cell_type": "markdown",
   "metadata": {},
   "source": [
    "As seen below, Distance is positively skewed to the right. "
   ]
  },
  {
   "cell_type": "code",
   "execution_count": 59,
   "metadata": {},
   "outputs": [
    {
     "data": {
      "text/plain": [
       "<AxesSubplot:>"
      ]
     },
     "execution_count": 59,
     "metadata": {},
     "output_type": "execute_result"
    },
    {
     "data": {
      "image/png": "[encoded data removed]",
      "text/plain": [
       "<Figure size 432x288 with 1 Axes>"
      ]
     },
     "metadata": {
      "needs_background": "light"
     },
     "output_type": "display_data"
    }
   ],
   "source": [
    "# Distribution of Distance\n",
    "data['distance'].hist(density = 0, histtype = \"stepfilled\", bins=20)"
   ]
  },
  {
   "cell_type": "markdown",
   "metadata": {},
   "source": [
    "As seen below, time is not normally distributed, rather it is bimodal and slightly positively skewed to the right. "
   ]
  },
  {
   "cell_type": "code",
   "execution_count": 60,
   "metadata": {},
   "outputs": [
    {
     "data": {
      "text/plain": [
       "<AxesSubplot:>"
      ]
     },
     "execution_count": 60,
     "metadata": {},
     "output_type": "execute_result"
    },
    {
     "data": {
      "image/png": "[encoded data removed]",
      "text/plain": [
       "<Figure size 432x288 with 1 Axes>"
      ]
     },
     "metadata": {
      "needs_background": "light"
     },
     "output_type": "display_data"
    }
   ],
   "source": [
    "# distribution of time\n",
    "data['moving_time'].hist(density = 0, histtype = \"stepfilled\", bins=20)"
   ]
  },
  {
   "cell_type": "markdown",
   "metadata": {},
   "source": [
    "As seen below, average_watts is slightly skewed to the right"
   ]
  },
  {
   "cell_type": "code",
   "execution_count": 61,
   "metadata": {},
   "outputs": [
    {
     "data": {
      "text/plain": [
       "<AxesSubplot:>"
      ]
     },
     "execution_count": 61,
     "metadata": {},
     "output_type": "execute_result"
    },
    {
     "data": {
      "image/png": "[encoded data removed]",
      "text/plain": [
       "<Figure size 432x288 with 1 Axes>"
      ]
     },
     "metadata": {
      "needs_background": "light"
     },
     "output_type": "display_data"
    }
   ],
   "source": [
    "#distribution of average watts\n",
    "data['average_watts'].hist(density = 0, histtype = \"stepfilled\", bins=20)"
   ]
  },
  {
   "cell_type": "markdown",
   "metadata": {},
   "source": [
    "As seen below, Average Power is contains an outlier at 0, however the rest of data is normally distributed"
   ]
  },
  {
   "cell_type": "code",
   "execution_count": 62,
   "metadata": {},
   "outputs": [
    {
     "data": {
      "text/plain": [
       "<AxesSubplot:>"
      ]
     },
     "execution_count": 62,
     "metadata": {},
     "output_type": "execute_result"
    },
    {
     "data": {
      "image/png": "[encoded data removed]",
      "text/plain": [
       "<Figure size 432x288 with 1 Axes>"
      ]
     },
     "metadata": {
      "needs_background": "light"
     },
     "output_type": "display_data"
    }
   ],
   "source": [
    "data['Average Power'].hist(density = 0, histtype = \"stepfilled\", bins=20)"
   ]
  },
  {
   "cell_type": "markdown",
   "metadata": {},
   "source": [
    "As seen below, average speed is normally distributed. "
   ]
  },
  {
   "cell_type": "code",
   "execution_count": 63,
   "metadata": {},
   "outputs": [
    {
     "data": {
      "text/plain": [
       "<AxesSubplot:>"
      ]
     },
     "execution_count": 63,
     "metadata": {},
     "output_type": "execute_result"
    },
    {
     "data": {
      "image/png": "[encoded data removed]",
      "text/plain": [
       "<Figure size 432x288 with 1 Axes>"
      ]
     },
     "metadata": {
      "needs_background": "light"
     },
     "output_type": "display_data"
    }
   ],
   "source": [
    "#distribution of average speed\n",
    "data['Average Speed'].hist(density = 0, histtype = \"stepfilled\", bins=20)"
   ]
  },
  {
   "cell_type": "markdown",
   "metadata": {},
   "source": [
    "As seen below, TSS is positively skewed to the right. "
   ]
  },
  {
   "cell_type": "code",
   "execution_count": 64,
   "metadata": {},
   "outputs": [
    {
     "data": {
      "text/plain": [
       "<AxesSubplot:>"
      ]
     },
     "execution_count": 64,
     "metadata": {},
     "output_type": "execute_result"
    },
    {
     "data": {
      "image/png": "[encoded data removed]",
      "text/plain": [
       "<Figure size 432x288 with 1 Axes>"
      ]
     },
     "metadata": {
      "needs_background": "light"
     },
     "output_type": "display_data"
    }
   ],
   "source": [
    "data['TSS'].hist(density = 0, histtype = \"stepfilled\", bins=20)"
   ]
  },
  {
   "cell_type": "markdown",
   "metadata": {},
   "source": [
    "## Explore the relationships between the following variables. Are any of them corrolated with each other (do they vary together in a predictable way)? Can you explain any relationships you observe?"
   ]
  },
  {
   "cell_type": "markdown",
   "metadata": {},
   "source": [
    "As seen below, the variables of distance and time possess a strong positive correlation, with distance increasing the longer time is spent moving. "
   ]
  },
  {
   "cell_type": "code",
   "execution_count": 65,
   "metadata": {},
   "outputs": [
    {
     "data": {
      "text/plain": [
       "<AxesSubplot:xlabel='distance', ylabel='moving_time'>"
      ]
     },
     "execution_count": 65,
     "metadata": {},
     "output_type": "execute_result"
    },
    {
     "data": {
      "image/png": "[encoded data removed]",
      "text/plain": [
       "<Figure size 432x288 with 1 Axes>"
      ]
     },
     "metadata": {
      "needs_background": "light"
     },
     "output_type": "display_data"
    }
   ],
   "source": [
    "data.plot.scatter(x='distance', y='moving_time',s=10, c='DarkBlue')"
   ]
  },
  {
   "cell_type": "markdown",
   "metadata": {},
   "source": [
    "Average heartbeat and average speed also possess a weaker, positive correlation, in which the greater the average speed, the greater the average heartrate. However, there are some outliers in which there is 0 speed but a high heartrate, most likely accounting for the rider stopping but his heart rate is still beating quickly. "
   ]
  },
  {
   "cell_type": "code",
   "execution_count": 66,
   "metadata": {},
   "outputs": [
    {
     "data": {
      "text/plain": [
       "<AxesSubplot:xlabel='average_heartrate', ylabel='Average Speed'>"
      ]
     },
     "execution_count": 66,
     "metadata": {},
     "output_type": "execute_result"
    },
    {
     "data": {
      "image/png": "[encoded data removed]",
      "text/plain": [
       "<Figure size 432x288 with 1 Axes>"
      ]
     },
     "metadata": {
      "needs_background": "light"
     },
     "output_type": "display_data"
    }
   ],
   "source": [
    "data.plot.scatter(x='average_heartrate', y='Average Speed',s=10, c='DarkBlue')"
   ]
  },
  {
   "cell_type": "markdown",
   "metadata": {},
   "source": [
    "Average heartbeat and average power also possess a weaker, positive correlation, in which the greater the average power, the greater the average heartrate. However, there are some outliers in which there is 0 power recorded but a high heartrate, most likely accounting for the rider not exerting himself after stopping riding but his heart rate is still beating quickly."
   ]
  },
  {
   "cell_type": "code",
   "execution_count": 67,
   "metadata": {},
   "outputs": [
    {
     "data": {
      "text/plain": [
       "<AxesSubplot:xlabel='average_heartrate', ylabel='Average Power'>"
      ]
     },
     "execution_count": 67,
     "metadata": {},
     "output_type": "execute_result"
    },
    {
     "data": {
      "image/png": "[encoded data removed]",
      "text/plain": [
       "<Figure size 432x288 with 1 Axes>"
      ]
     },
     "metadata": {
      "needs_background": "light"
     },
     "output_type": "display_data"
    }
   ],
   "source": [
    "data.plot.scatter(x='average_heartrate', y='Average Power',s=10, c='DarkBlue')"
   ]
  },
  {
   "cell_type": "markdown",
   "metadata": {},
   "source": [
    "## We want to explore the differences between the three categories: Race, Workout and Ride."
   ]
  },
  {
   "cell_type": "markdown",
   "metadata": {},
   "source": [
    "For the variables average_heartrate, Average Power and Average Speed, the Race workout type displays the highest values, most likely due to the increased pressure and intensity of the exercise. In regard to both Ride and Workout, they display a similiar range of values, with Workout having higher values on average however Ride has a greater sample size."
   ]
  },
  {
   "cell_type": "code",
   "execution_count": 68,
   "metadata": {},
   "outputs": [
    {
     "data": {
      "text/plain": [
       "<AxesSubplot:xlabel='workout_type', ylabel='average_heartrate'>"
      ]
     },
     "execution_count": 68,
     "metadata": {},
     "output_type": "execute_result"
    },
    {
     "data": {
      "image/png": "[encoded data removed]",
      "text/plain": [
       "<Figure size 432x288 with 1 Axes>"
      ]
     },
     "metadata": {
      "needs_background": "light"
     },
     "output_type": "display_data"
    }
   ],
   "source": [
    "data.plot.scatter(x='workout_type', y = 'average_heartrate' , s=10, c='blue')"
   ]
  },
  {
   "cell_type": "code",
   "execution_count": 69,
   "metadata": {},
   "outputs": [
    {
     "data": {
      "text/plain": [
       "<AxesSubplot:xlabel='workout_type', ylabel='Average Power'>"
      ]
     },
     "execution_count": 69,
     "metadata": {},
     "output_type": "execute_result"
    },
    {
     "data": {
      "image/png": "[encoded data removed]",
      "text/plain": [
       "<Figure size 432x288 with 1 Axes>"
      ]
     },
     "metadata": {
      "needs_background": "light"
     },
     "output_type": "display_data"
    }
   ],
   "source": [
    "data.plot.scatter(x='workout_type', y = 'Average Power' , s=10, c='Red')"
   ]
  },
  {
   "cell_type": "code",
   "execution_count": 70,
   "metadata": {},
   "outputs": [
    {
     "data": {
      "text/plain": [
       "<AxesSubplot:xlabel='workout_type', ylabel='Average Speed'>"
      ]
     },
     "execution_count": 70,
     "metadata": {},
     "output_type": "execute_result"
    },
    {
     "data": {
      "image/png": "[encoded data removed]",
      "text/plain": [
       "<Figure size 432x288 with 1 Axes>"
      ]
     },
     "metadata": {
      "needs_background": "light"
     },
     "output_type": "display_data"
    }
   ],
   "source": [
    "data.plot.scatter(x='workout_type', y = 'Average Speed' , s=10, c='Green')"
   ]
  },
  {
   "cell_type": "markdown",
   "metadata": {},
   "source": [
    "However, in regard to both distance and moving_time, Ride possesses both longer distances and longer riding times on average. "
   ]
  },
  {
   "cell_type": "code",
   "execution_count": 71,
   "metadata": {},
   "outputs": [
    {
     "data": {
      "text/plain": [
       "<AxesSubplot:xlabel='workout_type', ylabel='distance'>"
      ]
     },
     "execution_count": 71,
     "metadata": {},
     "output_type": "execute_result"
    },
    {
     "data": {
      "image/png": "[encoded data removed]",
      "text/plain": [
       "<Figure size 432x288 with 1 Axes>"
      ]
     },
     "metadata": {
      "needs_background": "light"
     },
     "output_type": "display_data"
    }
   ],
   "source": [
    "data.plot.scatter(x='workout_type', y = 'distance' , s=10, c='Yellow')"
   ]
  },
  {
   "cell_type": "code",
   "execution_count": 72,
   "metadata": {},
   "outputs": [
    {
     "data": {
      "text/plain": [
       "<AxesSubplot:xlabel='workout_type', ylabel='moving_time'>"
      ]
     },
     "execution_count": 72,
     "metadata": {},
     "output_type": "execute_result"
    },
    {
     "data": {
      "image/png": "[encoded data removed]",
      "text/plain": [
       "<Figure size 432x288 with 1 Axes>"
      ]
     },
     "metadata": {
      "needs_background": "light"
     },
     "output_type": "display_data"
    }
   ],
   "source": [
    "data.plot.scatter(x='workout_type', y = 'moving_time' , s=10, c='Purple')"
   ]
  },
  {
   "cell_type": "code",
   "execution_count": 73,
   "metadata": {},
   "outputs": [],
   "source": [
    "# Here variables are assigned to the different types of workout"
   ]
  },
  {
   "cell_type": "code",
   "execution_count": 74,
   "metadata": {},
   "outputs": [],
   "source": [
    "ride_type = data[data.workout_type == \"Ride\"]\n",
    "race_type = data[data.workout_type == \"Race\"]\n",
    "workout = data[data.workout_type == \"Workout\"]"
   ]
  },
  {
   "cell_type": "markdown",
   "metadata": {},
   "source": [
    "The histogram below displays a relatively normal distribution of values regarding average heartrate while on a ride, averaging around 125 bpm while also displaying a very large range of values and thus a variety of rides at different intensities."
   ]
  },
  {
   "cell_type": "code",
   "execution_count": 75,
   "metadata": {},
   "outputs": [
    {
     "data": {
      "text/plain": [
       "<AxesSubplot:>"
      ]
     },
     "execution_count": 75,
     "metadata": {},
     "output_type": "execute_result"
    },
    {
     "data": {
      "image/png": "[encoded data removed]",
      "text/plain": [
       "<Figure size 432x288 with 1 Axes>"
      ]
     },
     "metadata": {
      "needs_background": "light"
     },
     "output_type": "display_data"
    }
   ],
   "source": [
    "ride_type['average_heartrate'].hist(density = 0, histtype = \"stepfilled\", bins=10)"
   ]
  },
  {
   "cell_type": "markdown",
   "metadata": {},
   "source": [
    "The histogram below displays a positively skewed distribution of values regarding average heartrate while on a ride, grouped mainly between 140-145 bpm on average while also possessing a very small range of values, indicating that races were commonly high intensity."
   ]
  },
  {
   "cell_type": "code",
   "execution_count": 76,
   "metadata": {},
   "outputs": [
    {
     "data": {
      "text/plain": [
       "<AxesSubplot:>"
      ]
     },
     "execution_count": 76,
     "metadata": {},
     "output_type": "execute_result"
    },
    {
     "data": {
      "image/png": "[encoded data removed]",
      "text/plain": [
       "<Figure size 432x288 with 1 Axes>"
      ]
     },
     "metadata": {
      "needs_background": "light"
     },
     "output_type": "display_data"
    }
   ],
   "source": [
    "race_type['average_heartrate'].hist(density = 0, histtype = \"stepfilled\", bins=10)"
   ]
  },
  {
   "cell_type": "markdown",
   "metadata": {},
   "source": [
    "The histogram below displays a relatively normal distribution of values regarding average heartrate while on a ride, clumped between 125-130 bpm while also not containing many samples, indicating that workout sessions were not common."
   ]
  },
  {
   "cell_type": "code",
   "execution_count": 77,
   "metadata": {},
   "outputs": [
    {
     "data": {
      "text/plain": [
       "<AxesSubplot:>"
      ]
     },
     "execution_count": 77,
     "metadata": {},
     "output_type": "execute_result"
    },
    {
     "data": {
      "image/png": "[encoded data removed]",
      "text/plain": [
       "<Figure size 432x288 with 1 Axes>"
      ]
     },
     "metadata": {
      "needs_background": "light"
     },
     "output_type": "display_data"
    }
   ],
   "source": [
    "workout['average_heartrate'].hist(density = 0, histtype = \"stepfilled\", bins=10)"
   ]
  },
  {
   "cell_type": "code",
   "execution_count": null,
   "metadata": {},
   "outputs": [],
   "source": []
  },
  {
   "cell_type": "code",
   "execution_count": null,
   "metadata": {},
   "outputs": [],
   "source": []
  },
  {
   "cell_type": "code",
   "execution_count": null,
   "metadata": {},
   "outputs": [],
   "source": []
  },
  {
   "cell_type": "code",
   "execution_count": null,
   "metadata": {},
   "outputs": [],
   "source": []
  }
 ],
 "metadata": {
  "kernelspec": {
   "display_name": "Python 3",
   "language": "python",
   "name": "python3"
  },
  "language_info": {
   "codemirror_mode": {
    "name": "ipython",
    "version": 3
   },
   "file_extension": ".py",
   "mimetype": "text/x-python",
   "name": "python",
   "nbconvert_exporter": "python",
   "pygments_lexer": "ipython3",
   "version": "3.8.5"
  }
 },
 "nbformat": 4,
 "nbformat_minor": 2
}
